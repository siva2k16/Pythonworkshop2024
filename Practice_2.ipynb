{
  "nbformat": 4,
  "nbformat_minor": 0,
  "metadata": {
    "colab": {
      "provenance": []
    },
    "kernelspec": {
      "name": "python3",
      "display_name": "Python 3"
    },
    "language_info": {
      "name": "python"
    }
  },
  "cells": [
    {
      "cell_type": "code",
      "execution_count": 1,
      "metadata": {
        "colab": {
          "base_uri": "https://localhost:8080/",
          "height": 35
        },
        "id": "wtJSUBmSyLuR",
        "outputId": "4a3ef413-7870-4912-f255-8ed0c7568171"
      },
      "outputs": [
        {
          "output_type": "execute_result",
          "data": {
            "text/plain": [
              "'siva'"
            ],
            "application/vnd.google.colaboratory.intrinsic+json": {
              "type": "string"
            }
          },
          "metadata": {},
          "execution_count": 1
        }
      ],
      "source": [
        "name = 'siva'\n",
        "name"
      ]
    },
    {
      "cell_type": "code",
      "source": [
        "name_1 = 'siva'"
      ],
      "metadata": {
        "id": "isx2SKRdyoY9"
      },
      "execution_count": 2,
      "outputs": []
    },
    {
      "cell_type": "code",
      "source": [
        "#cannot have special characters\n",
        "age!= 'siva'"
      ],
      "metadata": {
        "colab": {
          "base_uri": "https://localhost:8080/",
          "height": 158
        },
        "id": "b0ehES6fypXi",
        "outputId": "c1baeacd-3208-4ee2-8267-7f0cbe2a7dea"
      },
      "execution_count": 3,
      "outputs": [
        {
          "output_type": "error",
          "ename": "NameError",
          "evalue": "name 'age' is not defined",
          "traceback": [
            "\u001b[0;31m---------------------------------------------------------------------------\u001b[0m",
            "\u001b[0;31mNameError\u001b[0m                                 Traceback (most recent call last)",
            "\u001b[0;32m<ipython-input-3-aaa143e2899a>\u001b[0m in \u001b[0;36m<cell line: 2>\u001b[0;34m()\u001b[0m\n\u001b[1;32m      1\u001b[0m \u001b[0;31m#cannot have special characters\u001b[0m\u001b[0;34m\u001b[0m\u001b[0;34m\u001b[0m\u001b[0m\n\u001b[0;32m----> 2\u001b[0;31m \u001b[0mage\u001b[0m\u001b[0;34m!=\u001b[0m \u001b[0;34m'siva'\u001b[0m\u001b[0;34m\u001b[0m\u001b[0;34m\u001b[0m\u001b[0m\n\u001b[0m",
            "\u001b[0;31mNameError\u001b[0m: name 'age' is not defined"
          ]
        }
      ]
    },
    {
      "cell_type": "code",
      "source": [
        "#cant have number\n",
        "2age ='siva'"
      ],
      "metadata": {
        "id": "h176yG2dyqb4"
      },
      "execution_count": null,
      "outputs": []
    },
    {
      "cell_type": "code",
      "source": [
        "#Reserved words\n",
        "for = 'siva'"
      ],
      "metadata": {
        "id": "M6yQ21xmyrbT"
      },
      "execution_count": null,
      "outputs": []
    },
    {
      "cell_type": "code",
      "source": [
        "a = input('enter a number')\n",
        "print(a)"
      ],
      "metadata": {
        "colab": {
          "base_uri": "https://localhost:8080/"
        },
        "id": "vjwv-vo2yu6L",
        "outputId": "03bc7086-878c-4f85-fffc-7eba6cc756e0"
      },
      "execution_count": 5,
      "outputs": [
        {
          "output_type": "stream",
          "name": "stdout",
          "text": [
            "enter a number1\n",
            "1\n"
          ]
        }
      ]
    },
    {
      "cell_type": "code",
      "source": [
        "name = \"tesla   \"\n",
        "print(name.upper())\n",
        "print(name.lower())\n",
        "print(name.strip())\n",
        "print(name.lstrip())\n",
        "print(name.rstrip())\n",
        "print(len(name.upper()))\n",
        "print(len(name.lower()))\n",
        "print(len(name.strip()))"
      ],
      "metadata": {
        "colab": {
          "base_uri": "https://localhost:8080/"
        },
        "id": "YY87Ql9Ayv_F",
        "outputId": "980eada7-570f-4836-8eea-eee91d6183c3"
      },
      "execution_count": 4,
      "outputs": [
        {
          "output_type": "stream",
          "name": "stdout",
          "text": [
            "TESLA   \n",
            "tesla   \n",
            "tesla\n",
            "tesla   \n",
            "tesla\n",
            "8\n",
            "8\n",
            "5\n"
          ]
        }
      ]
    },
    {
      "cell_type": "code",
      "source": [
        "users = ['sam','satya','sundar','ajay']\n",
        "data = ['ai','ai+genai','android']\n",
        "print(sorted(users))\n",
        "users.append('jeeva')\n",
        "print(users)\n",
        "print(sorted(users))"
      ],
      "metadata": {
        "colab": {
          "base_uri": "https://localhost:8080/"
        },
        "id": "CfG6awZAyxD3",
        "outputId": "9ae879b1-832c-4c0f-a8fb-7d8502ef77d4"
      },
      "execution_count": 6,
      "outputs": [
        {
          "output_type": "stream",
          "name": "stdout",
          "text": [
            "['ajay', 'sam', 'satya', 'sundar']\n",
            "['sam', 'satya', 'sundar', 'ajay', 'jeeva']\n",
            "['ajay', 'jeeva', 'sam', 'satya', 'sundar']\n"
          ]
        }
      ]
    },
    {
      "cell_type": "code",
      "source": [
        "#first to remaining\n",
        "print(users[1:])\n",
        "\n",
        "print(len(users))"
      ],
      "metadata": {
        "colab": {
          "base_uri": "https://localhost:8080/"
        },
        "id": "IP31TassyyDf",
        "outputId": "de87c28d-9ab8-42e9-8a83-05d80b101fea"
      },
      "execution_count": 7,
      "outputs": [
        {
          "output_type": "stream",
          "name": "stdout",
          "text": [
            "['satya', 'sundar', 'ajay', 'jeeva']\n",
            "5\n"
          ]
        }
      ]
    },
    {
      "cell_type": "code",
      "source": [
        "users\n",
        "print(set(users))\n",
        "print((users))"
      ],
      "metadata": {
        "colab": {
          "base_uri": "https://localhost:8080/"
        },
        "id": "oKKK7Y9uyzgX",
        "outputId": "0a7d1e84-b196-4531-db73-e47a714994a8"
      },
      "execution_count": 8,
      "outputs": [
        {
          "output_type": "stream",
          "name": "stdout",
          "text": [
            "{'satya', 'jeeva', 'ajay', 'sam', 'sundar'}\n",
            "['sam', 'satya', 'sundar', 'ajay', 'jeeva']\n"
          ]
        }
      ]
    },
    {
      "cell_type": "code",
      "source": [
        "#https://docs.python.org/3/tutorial/datastructures.html#looping-techniques\n",
        "\n",
        "a = [1,2,3,4,5]\n",
        "print(len(a))\n",
        "for i in range(len(a)):\n",
        "  print(a[i])\n"
      ],
      "metadata": {
        "colab": {
          "base_uri": "https://localhost:8080/"
        },
        "id": "rqPMdfE3y0mN",
        "outputId": "f53976ee-50ea-47b2-d807-76572892a2b8"
      },
      "execution_count": 9,
      "outputs": [
        {
          "output_type": "stream",
          "name": "stdout",
          "text": [
            "5\n",
            "1\n",
            "2\n",
            "3\n",
            "4\n",
            "5\n"
          ]
        }
      ]
    },
    {
      "cell_type": "code",
      "source": [
        "knights = {'Tshirt': 50, 'Kidswear': 30}\n",
        "totalstock = 0\n",
        "for k, v in knights.items():\n",
        "    print(k, v)\n",
        "    print(k)\n",
        "    print(v)\n",
        "    totalstock += v\n",
        "print(totalstock)"
      ],
      "metadata": {
        "colab": {
          "base_uri": "https://localhost:8080/"
        },
        "id": "gmK8G2zWy1zM",
        "outputId": "5ecd204b-a8e6-4722-d95e-858fce0b5945"
      },
      "execution_count": 10,
      "outputs": [
        {
          "output_type": "stream",
          "name": "stdout",
          "text": [
            "Tshirt 50\n",
            "Tshirt\n",
            "50\n",
            "Kidswear 30\n",
            "Kidswear\n",
            "30\n",
            "80\n"
          ]
        }
      ]
    },
    {
      "cell_type": "code",
      "source": [
        "#When looping through a sequence, the position index and corresponding value can be retrieved at the same time using the enumerate() function.\n",
        "for i, v in enumerate(['tic', 'tac', 'toe']):\n",
        "    print(i, v)\n"
      ],
      "metadata": {
        "colab": {
          "base_uri": "https://localhost:8080/"
        },
        "id": "OhP8QCKdy3L3",
        "outputId": "7424eda1-0c69-4b29-9a00-bde7cfc5a6cd"
      },
      "execution_count": 11,
      "outputs": [
        {
          "output_type": "stream",
          "name": "stdout",
          "text": [
            "0 tic\n",
            "1 tac\n",
            "2 toe\n"
          ]
        }
      ]
    },
    {
      "cell_type": "code",
      "source": [
        "data = [1,2,3,4,5,2,3,4]\n",
        "print(set(data))\n",
        "for i in range(len(data)):\n",
        "  print(data[i])"
      ],
      "metadata": {
        "colab": {
          "base_uri": "https://localhost:8080/"
        },
        "id": "JAogIwhLy4MN",
        "outputId": "8ec77233-3099-4fb6-c033-a25c1bfbd59d"
      },
      "execution_count": 12,
      "outputs": [
        {
          "output_type": "stream",
          "name": "stdout",
          "text": [
            "{1, 2, 3, 4, 5}\n",
            "1\n",
            "2\n",
            "3\n",
            "4\n",
            "5\n",
            "2\n",
            "3\n",
            "4\n"
          ]
        }
      ]
    },
    {
      "cell_type": "code",
      "source": [
        "#To loop over a sequence in sorted order, use the sorted() function which returns a new sorted list while leaving the source unaltered.\n",
        "basket = ['apple', 'orange', 'apple', 'pear', 'orange', 'banana']\n",
        "for i in sorted(basket):\n",
        "    print(i)"
      ],
      "metadata": {
        "colab": {
          "base_uri": "https://localhost:8080/"
        },
        "id": "28w4kSn5y6aY",
        "outputId": "7630c891-3a3b-4736-eee7-95ffe63368cb"
      },
      "execution_count": 13,
      "outputs": [
        {
          "output_type": "stream",
          "name": "stdout",
          "text": [
            "apple\n",
            "apple\n",
            "banana\n",
            "orange\n",
            "orange\n",
            "pear\n"
          ]
        }
      ]
    },
    {
      "cell_type": "code",
      "source": [
        "band = {\"Mens_section\":1220,\"Kids\":145,\"Jewelry\":775}\n",
        "for k,v in band.items():\n",
        "  print(k,v)\n",
        "\n"
      ],
      "metadata": {
        "colab": {
          "base_uri": "https://localhost:8080/"
        },
        "id": "swqaA7cSy8eT",
        "outputId": "28cc1604-e743-49b4-9935-50f1adb0289d"
      },
      "execution_count": 14,
      "outputs": [
        {
          "output_type": "stream",
          "name": "stdout",
          "text": [
            "Mens_section 1220\n",
            "Kids 145\n",
            "Jewelry 775\n"
          ]
        }
      ]
    },
    {
      "cell_type": "code",
      "source": [
        "if band.get(\"Mens_section\") < 1500:\n",
        "  print(\"Mens_section is OOO\")\n",
        "  band[\"Mens_section\"] += 500\n",
        "else:\n",
        "  print(\"Mens_section is in stock\")\n",
        "for k,v in band.items():\n",
        "  print(k,v)\n"
      ],
      "metadata": {
        "colab": {
          "base_uri": "https://localhost:8080/"
        },
        "id": "ToSt7Of4y9V2",
        "outputId": "1e09bd1e-5e55-453d-999f-d897fbd072b9"
      },
      "execution_count": 15,
      "outputs": [
        {
          "output_type": "stream",
          "name": "stdout",
          "text": [
            "Mens_section is OOO\n",
            "Mens_section 1720\n",
            "Kids 145\n",
            "Jewelry 775\n"
          ]
        }
      ]
    },
    {
      "cell_type": "code",
      "source": [
        "import os\n",
        "\n",
        "# Set an environment variable\n",
        "os.environ['GREETING'] = 'Hello, world!'\n",
        "\n",
        "# Retrieve the environment variable\n",
        "greeting = os.environ.get('GREETING', 'Hello, default!')\n",
        "\n",
        "print(greeting)\n"
      ],
      "metadata": {
        "colab": {
          "base_uri": "https://localhost:8080/"
        },
        "id": "3iDOirQay-48",
        "outputId": "f3b8b75b-2290-4995-f804-f24be2b39226"
      },
      "execution_count": 16,
      "outputs": [
        {
          "output_type": "stream",
          "name": "stdout",
          "text": [
            "Hello, world!\n"
          ]
        }
      ]
    }
  ]
}